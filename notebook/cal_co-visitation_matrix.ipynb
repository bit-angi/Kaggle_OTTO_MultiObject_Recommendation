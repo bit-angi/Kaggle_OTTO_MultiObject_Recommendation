{
 "cells": [
  {
   "cell_type": "code",
   "id": "initial_id",
   "metadata": {
    "collapsed": true,
    "ExecuteTime": {
     "end_time": "2025-09-12T09:08:12.903538Z",
     "start_time": "2025-09-12T09:08:07.533829Z"
    }
   },
   "source": [
    "import pandas as pd\n",
    "from fontTools.subset import subset\n",
    "from pandas.core.common import random_state\n",
    "\n",
    "train_df = pd.read_parquet('../data/train.parquet')\n",
    "test_df = pd.read_parquet('../data/test.parquet')\n",
    "all_df = pd.concat([train_df, test_df])"
   ],
   "outputs": [],
   "execution_count": 1
  },
  {
   "metadata": {
    "ExecuteTime": {
     "end_time": "2025-09-12T09:08:17.258914Z",
     "start_time": "2025-09-12T09:08:17.247139Z"
    }
   },
   "cell_type": "code",
   "source": [
    "import numpy as np\n",
    "\n",
    "fraction_of_sessions_to_use = 1\n",
    "if fraction_of_sessions_to_use != 1 :\n",
    "    lucky_sessions_train = train_df.drop_duplicates(['session']).sample(frac=fraction_of_sessions_to_use,random_state=42)['session']\n",
    "    subset_of_train = train_df[train_df.session.isin(lucky_sessions_train)]\n",
    "    lucky_sessions_test = test_df.drop_duplicates(['session'])['session']\n",
    "    subset_of_test = test_df[test_df.session.isin(lucky_sessions_test)]\n",
    "else :\n",
    "    subset_of_train = train_df\n",
    "    subset_of_test = test_df\n",
    "\n",
    "subset_of_train.head()"
   ],
   "id": "d5d7c2c135039d54",
   "outputs": [
    {
     "data": {
      "text/plain": [
       "   session      aid          ts  type\n",
       "0        0  1517085  1659304800     0\n",
       "1        0  1563459  1659304904     0\n",
       "2        0  1309446  1659367439     0\n",
       "3        0    16246  1659367719     0\n",
       "4        0  1781822  1659367871     0"
      ],
      "text/html": [
       "<div>\n",
       "<style scoped>\n",
       "    .dataframe tbody tr th:only-of-type {\n",
       "        vertical-align: middle;\n",
       "    }\n",
       "\n",
       "    .dataframe tbody tr th {\n",
       "        vertical-align: top;\n",
       "    }\n",
       "\n",
       "    .dataframe thead th {\n",
       "        text-align: right;\n",
       "    }\n",
       "</style>\n",
       "<table border=\"1\" class=\"dataframe\">\n",
       "  <thead>\n",
       "    <tr style=\"text-align: right;\">\n",
       "      <th></th>\n",
       "      <th>session</th>\n",
       "      <th>aid</th>\n",
       "      <th>ts</th>\n",
       "      <th>type</th>\n",
       "    </tr>\n",
       "  </thead>\n",
       "  <tbody>\n",
       "    <tr>\n",
       "      <th>0</th>\n",
       "      <td>0</td>\n",
       "      <td>1517085</td>\n",
       "      <td>1659304800</td>\n",
       "      <td>0</td>\n",
       "    </tr>\n",
       "    <tr>\n",
       "      <th>1</th>\n",
       "      <td>0</td>\n",
       "      <td>1563459</td>\n",
       "      <td>1659304904</td>\n",
       "      <td>0</td>\n",
       "    </tr>\n",
       "    <tr>\n",
       "      <th>2</th>\n",
       "      <td>0</td>\n",
       "      <td>1309446</td>\n",
       "      <td>1659367439</td>\n",
       "      <td>0</td>\n",
       "    </tr>\n",
       "    <tr>\n",
       "      <th>3</th>\n",
       "      <td>0</td>\n",
       "      <td>16246</td>\n",
       "      <td>1659367719</td>\n",
       "      <td>0</td>\n",
       "    </tr>\n",
       "    <tr>\n",
       "      <th>4</th>\n",
       "      <td>0</td>\n",
       "      <td>1781822</td>\n",
       "      <td>1659367871</td>\n",
       "      <td>0</td>\n",
       "    </tr>\n",
       "  </tbody>\n",
       "</table>\n",
       "</div>"
      ]
     },
     "execution_count": 2,
     "metadata": {},
     "output_type": "execute_result"
    }
   ],
   "execution_count": 2
  },
  {
   "metadata": {
    "ExecuteTime": {
     "end_time": "2025-09-12T09:08:23.719641Z",
     "start_time": "2025-09-12T09:08:20.475919Z"
    }
   },
   "cell_type": "code",
   "source": "subset_of_train.index = pd.MultiIndex.from_frame(subset_of_train[['session']])",
   "id": "3df3d2a31cf7f76b",
   "outputs": [],
   "execution_count": 3
  },
  {
   "metadata": {
    "ExecuteTime": {
     "end_time": "2025-09-12T09:08:23.916174Z",
     "start_time": "2025-09-12T09:08:23.720819Z"
    }
   },
   "cell_type": "code",
   "source": "subset_of_test.index = pd.MultiIndex.from_frame(subset_of_test[['session']])",
   "id": "d19733d9c2645404",
   "outputs": [],
   "execution_count": 4
  },
  {
   "metadata": {
    "ExecuteTime": {
     "end_time": "2025-09-12T09:08:37.420727Z",
     "start_time": "2025-09-12T09:08:26.097170Z"
    }
   },
   "cell_type": "code",
   "source": [
    "chunk_size = 30000\n",
    "min_ts = train_df.ts.min()\n",
    "max_ts = train_df.ts.max()\n",
    "\n",
    "from collections import defaultdict,Counter\n",
    "\n",
    "next_AIDs = defaultdict(Counter)\n",
    "subsets = pd.concat([subset_of_train, subset_of_test])\n",
    "sessions = subsets.session.unique()\n",
    "sessions"
   ],
   "id": "efa4505904974616",
   "outputs": [
    {
     "data": {
      "text/plain": [
       "array([       0,        1,        2, ..., 14571579, 14571580, 14571581],\n",
       "      dtype=int32)"
      ]
     },
     "execution_count": 5,
     "metadata": {},
     "output_type": "execute_result"
    }
   ],
   "execution_count": 5
  },
  {
   "metadata": {
    "ExecuteTime": {
     "end_time": "2025-09-12T09:09:06.215538Z",
     "start_time": "2025-09-12T09:09:06.204006Z"
    }
   },
   "cell_type": "code",
   "source": "subsets",
   "id": "64136141a4c42ad6",
   "outputs": [
    {
     "data": {
      "text/plain": [
       "           session      aid          ts  type\n",
       "session                                      \n",
       "0                0  1517085  1659304800     0\n",
       "0                0  1563459  1659304904     0\n",
       "0                0  1309446  1659367439     0\n",
       "0                0    16246  1659367719     0\n",
       "0                0  1781822  1659367871     0\n",
       "...            ...      ...         ...   ...\n",
       "14571577  14571577  1141710  1662328774     0\n",
       "14571578  14571578   519105  1662328775     0\n",
       "14571579  14571579   739876  1662328775     0\n",
       "14571580  14571580   202353  1662328781     0\n",
       "14571581  14571581  1100210  1662328791     0\n",
       "\n",
       "[223644219 rows x 4 columns]"
      ],
      "text/html": [
       "<div>\n",
       "<style scoped>\n",
       "    .dataframe tbody tr th:only-of-type {\n",
       "        vertical-align: middle;\n",
       "    }\n",
       "\n",
       "    .dataframe tbody tr th {\n",
       "        vertical-align: top;\n",
       "    }\n",
       "\n",
       "    .dataframe thead th {\n",
       "        text-align: right;\n",
       "    }\n",
       "</style>\n",
       "<table border=\"1\" class=\"dataframe\">\n",
       "  <thead>\n",
       "    <tr style=\"text-align: right;\">\n",
       "      <th></th>\n",
       "      <th>session</th>\n",
       "      <th>aid</th>\n",
       "      <th>ts</th>\n",
       "      <th>type</th>\n",
       "    </tr>\n",
       "    <tr>\n",
       "      <th>session</th>\n",
       "      <th></th>\n",
       "      <th></th>\n",
       "      <th></th>\n",
       "      <th></th>\n",
       "    </tr>\n",
       "  </thead>\n",
       "  <tbody>\n",
       "    <tr>\n",
       "      <th>0</th>\n",
       "      <td>0</td>\n",
       "      <td>1517085</td>\n",
       "      <td>1659304800</td>\n",
       "      <td>0</td>\n",
       "    </tr>\n",
       "    <tr>\n",
       "      <th>0</th>\n",
       "      <td>0</td>\n",
       "      <td>1563459</td>\n",
       "      <td>1659304904</td>\n",
       "      <td>0</td>\n",
       "    </tr>\n",
       "    <tr>\n",
       "      <th>0</th>\n",
       "      <td>0</td>\n",
       "      <td>1309446</td>\n",
       "      <td>1659367439</td>\n",
       "      <td>0</td>\n",
       "    </tr>\n",
       "    <tr>\n",
       "      <th>0</th>\n",
       "      <td>0</td>\n",
       "      <td>16246</td>\n",
       "      <td>1659367719</td>\n",
       "      <td>0</td>\n",
       "    </tr>\n",
       "    <tr>\n",
       "      <th>0</th>\n",
       "      <td>0</td>\n",
       "      <td>1781822</td>\n",
       "      <td>1659367871</td>\n",
       "      <td>0</td>\n",
       "    </tr>\n",
       "    <tr>\n",
       "      <th>...</th>\n",
       "      <td>...</td>\n",
       "      <td>...</td>\n",
       "      <td>...</td>\n",
       "      <td>...</td>\n",
       "    </tr>\n",
       "    <tr>\n",
       "      <th>14571577</th>\n",
       "      <td>14571577</td>\n",
       "      <td>1141710</td>\n",
       "      <td>1662328774</td>\n",
       "      <td>0</td>\n",
       "    </tr>\n",
       "    <tr>\n",
       "      <th>14571578</th>\n",
       "      <td>14571578</td>\n",
       "      <td>519105</td>\n",
       "      <td>1662328775</td>\n",
       "      <td>0</td>\n",
       "    </tr>\n",
       "    <tr>\n",
       "      <th>14571579</th>\n",
       "      <td>14571579</td>\n",
       "      <td>739876</td>\n",
       "      <td>1662328775</td>\n",
       "      <td>0</td>\n",
       "    </tr>\n",
       "    <tr>\n",
       "      <th>14571580</th>\n",
       "      <td>14571580</td>\n",
       "      <td>202353</td>\n",
       "      <td>1662328781</td>\n",
       "      <td>0</td>\n",
       "    </tr>\n",
       "    <tr>\n",
       "      <th>14571581</th>\n",
       "      <td>14571581</td>\n",
       "      <td>1100210</td>\n",
       "      <td>1662328791</td>\n",
       "      <td>0</td>\n",
       "    </tr>\n",
       "  </tbody>\n",
       "</table>\n",
       "<p>223644219 rows × 4 columns</p>\n",
       "</div>"
      ]
     },
     "execution_count": 6,
     "metadata": {},
     "output_type": "execute_result"
    }
   ],
   "execution_count": 6
  },
  {
   "metadata": {
    "ExecuteTime": {
     "end_time": "2025-09-10T07:58:18.204294Z",
     "start_time": "2025-09-10T07:42:18.575691Z"
    }
   },
   "cell_type": "code",
   "source": [
    "from tqdm import tqdm\n",
    "\n",
    "for i in tqdm(range(0,sessions.shape[0],chunk_size)):\n",
    "    current_chunk = subsets.loc[sessions[i]:sessions[min(sessions.shape[0]-1,i+chunk_size-1)]].reset_index(drop=True)\n",
    "    current_chunk = current_chunk.groupby('session',as_index=False).nth(list(range(-30,0))).reset_index(drop=True)\n",
    "    consecutive_AIDs = current_chunk.merge(current_chunk,on='session')\n",
    "    consecutive_AIDs = consecutive_AIDs[consecutive_AIDs['aid_x'] != consecutive_AIDs['aid_y']]\n",
    "    consecutive_AIDs['days_elapsed'] = (consecutive_AIDs.ts_y - consecutive_AIDs.ts_x) / (24*60*60)\n",
    "    consecutive_AIDs = consecutive_AIDs[(consecutive_AIDs.days_elapsed >= 0) & (consecutive_AIDs.days_elapsed <= 1)]\n",
    "    for aid_x , aid_y in zip(consecutive_AIDs['aid_x'], consecutive_AIDs['aid_y']):\n",
    "        next_AIDs[aid_x][aid_y] += 1\n",
    "\n",
    "del train_df,subset_of_train,subsets\n",
    "\n",
    "session_type = ['clicks','carts','orders']\n",
    "test_session_AIDs = test_df.reset_index(drop=True).groupby('session')['aid'].apply(list)\n",
    "test_session_types = test_df.reset_index(drop=True).groupby('session')['type'].apply(list)\n",
    "\n",
    "test_session_AIDs"
   ],
   "id": "6afcf810331e1c51",
   "outputs": [
    {
     "name": "stderr",
     "output_type": "stream",
     "text": [
      "100%|██████████| 486/486 [13:07<00:00,  1.62s/it]\n"
     ]
    },
    {
     "data": {
      "text/plain": [
       "session\n",
       "12899779                                              [59625]\n",
       "12899780           [1142000, 582732, 973453, 736515, 1142000]\n",
       "12899781    [141736, 199008, 57315, 194067, 199008, 199008...\n",
       "12899782    [1669402, 1494780, 1494780, 1494780, 1494780, ...\n",
       "12899783    [255297, 1114789, 255297, 300127, 198385, 3001...\n",
       "                                  ...                        \n",
       "14571577                                            [1141710]\n",
       "14571578                                             [519105]\n",
       "14571579                                             [739876]\n",
       "14571580                                             [202353]\n",
       "14571581                                            [1100210]\n",
       "Name: aid, Length: 1671803, dtype: object"
      ]
     },
     "execution_count": 10,
     "metadata": {},
     "output_type": "execute_result"
    }
   ],
   "execution_count": 10
  },
  {
   "metadata": {
    "ExecuteTime": {
     "end_time": "2025-09-10T08:32:17.806910Z",
     "start_time": "2025-09-10T07:58:57.189890Z"
    }
   },
   "cell_type": "code",
   "source": [
    "from tqdm import tqdm\n",
    "labels = []\n",
    "no_data = 0\n",
    "no_data_all_aids = 0\n",
    "type_weight_multipliers = {0:1,1:6,2:3}\n",
    "for AIDs , types in tqdm(zip(test_session_AIDs,test_session_types),total=len(test_session_types)):\n",
    "    if len(AIDs) >= 20 :\n",
    "        weights = np.logspace(0.1,1,len(AIDs),base=2,endpoint=True)\n",
    "        aids_temp = defaultdict(lambda : 0)\n",
    "        for aid,w,t in zip(AIDs,weights,types):\n",
    "            aids_temp[aid] += w * type_weight_multipliers[t]\n",
    "        sorted_aids = [k for k,v in sorted(aids_temp.items(),key=lambda item:-item[1])]\n",
    "        labels.append(sorted_aids[:20])\n",
    "    else :\n",
    "        AIDs = list(dict.fromkeys(AIDs[::-1]))\n",
    "        AIDs_len_start = len(AIDs)\n",
    "\n",
    "        candidates = []\n",
    "        for AID in AIDs:\n",
    "            if AID in next_AIDs: candidates += [aid for aid, count in next_AIDs[AID].most_common(20)]\n",
    "        AIDs += [AID for AID, cnt in Counter(candidates).most_common(40) if AID not in AIDs]\n",
    "\n",
    "        labels.append(AIDs[:20])\n",
    "        if candidates == []: no_data += 1\n",
    "        if AIDs_len_start == len(AIDs): no_data_all_aids += 1\n"
   ],
   "id": "4420bc206bc36bf1",
   "outputs": [
    {
     "name": "stderr",
     "output_type": "stream",
     "text": [
      "100%|██████████| 1671803/1671803 [33:20<00:00, 835.65it/s] \n"
     ]
    }
   ],
   "execution_count": 11
  },
  {
   "metadata": {
    "ExecuteTime": {
     "end_time": "2025-09-10T08:39:45.486318Z",
     "start_time": "2025-09-10T08:39:33.586853Z"
    }
   },
   "cell_type": "code",
   "source": [
    "# >>> outputting results to CSV\n",
    "\n",
    "labels_as_strings = [' '.join([str(l) for l in lls]) for lls in labels]\n",
    "\n",
    "predictions = pd.DataFrame(data={'session_type': test_session_AIDs.index, 'labels': labels_as_strings})\n",
    "\n",
    "prediction_dfs = []\n",
    "\n",
    "for st in tqdm(session_type):\n",
    "    modified_predictions = predictions.copy()\n",
    "    modified_predictions.session_type = modified_predictions.session_type.astype('str') + f'_{st}'\n",
    "    prediction_dfs.append(modified_predictions)\n",
    "\n",
    "submission = pd.concat(prediction_dfs).reset_index(drop=True)\n",
    "# 将 labels 列中的数组转换为逗号分隔的字符串\n",
    "submission['labels'] = submission['labels'].apply(lambda x: ' '.join(map(str, x)))\n",
    "submission.to_csv('./submission.csv', index=False)\n",
    "\n",
    "print(f'Test sessions that we did not manage to extend based on the co-visitation matrix: {no_data_all_aids}')"
   ],
   "id": "8831984e764445d",
   "outputs": [
    {
     "ename": "KeyboardInterrupt",
     "evalue": "",
     "output_type": "error",
     "traceback": [
      "\u001B[0;31m---------------------------------------------------------------------------\u001B[0m",
      "\u001B[0;31mKeyboardInterrupt\u001B[0m                         Traceback (most recent call last)",
      "Cell \u001B[0;32mIn[15], line 3\u001B[0m\n\u001B[1;32m      1\u001B[0m \u001B[38;5;66;03m# >>> outputting results to CSV\u001B[39;00m\n\u001B[0;32m----> 3\u001B[0m labels_as_strings \u001B[38;5;241m=\u001B[39m [\u001B[38;5;124m'\u001B[39m\u001B[38;5;124m \u001B[39m\u001B[38;5;124m'\u001B[39m\u001B[38;5;241m.\u001B[39mjoin([\u001B[38;5;28mstr\u001B[39m(l) \u001B[38;5;28;01mfor\u001B[39;00m l \u001B[38;5;129;01min\u001B[39;00m lls]) \u001B[38;5;28;01mfor\u001B[39;00m lls \u001B[38;5;129;01min\u001B[39;00m labels]\n\u001B[1;32m      5\u001B[0m predictions \u001B[38;5;241m=\u001B[39m pd\u001B[38;5;241m.\u001B[39mDataFrame(data\u001B[38;5;241m=\u001B[39m{\u001B[38;5;124m'\u001B[39m\u001B[38;5;124msession_type\u001B[39m\u001B[38;5;124m'\u001B[39m: test_session_AIDs\u001B[38;5;241m.\u001B[39mindex, \u001B[38;5;124m'\u001B[39m\u001B[38;5;124mlabels\u001B[39m\u001B[38;5;124m'\u001B[39m: labels_as_strings})\n\u001B[1;32m      7\u001B[0m prediction_dfs \u001B[38;5;241m=\u001B[39m []\n",
      "\u001B[0;31mKeyboardInterrupt\u001B[0m: "
     ]
    }
   ],
   "execution_count": 15
  },
  {
   "metadata": {
    "ExecuteTime": {
     "end_time": "2025-09-10T08:35:06.920236Z",
     "start_time": "2025-09-10T08:35:06.914285Z"
    }
   },
   "cell_type": "code",
   "source": "len(submission)",
   "id": "92644b8ffe28d1f3",
   "outputs": [
    {
     "data": {
      "text/plain": [
       "5015409"
      ]
     },
     "execution_count": 13,
     "metadata": {},
     "output_type": "execute_result"
    }
   ],
   "execution_count": 13
  }
 ],
 "metadata": {
  "kernelspec": {
   "display_name": "Python 3",
   "language": "python",
   "name": "python3"
  },
  "language_info": {
   "codemirror_mode": {
    "name": "ipython",
    "version": 2
   },
   "file_extension": ".py",
   "mimetype": "text/x-python",
   "name": "python",
   "nbconvert_exporter": "python",
   "pygments_lexer": "ipython2",
   "version": "2.7.6"
  }
 },
 "nbformat": 4,
 "nbformat_minor": 5
}
