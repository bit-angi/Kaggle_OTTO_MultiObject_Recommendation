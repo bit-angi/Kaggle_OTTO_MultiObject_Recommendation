{
 "cells": [
  {
   "cell_type": "code",
   "id": "initial_id",
   "metadata": {
    "collapsed": true,
    "ExecuteTime": {
     "end_time": "2025-09-11T03:15:30.569390Z",
     "start_time": "2025-09-11T03:15:26.211563Z"
    }
   },
   "source": [
    "import pandas as pd\n",
    "import numpy as np\n",
    "from flask import session\n",
    "\n",
    "train_df = pd.read_parquet(\"../data/train.parquet\")\n",
    "test_df = pd.read_parquet(\"../data/test.parquet\")\n",
    "print(train_df.shape)\n",
    "print(test_df.shape)"
   ],
   "outputs": [
    {
     "name": "stdout",
     "output_type": "stream",
     "text": [
      "(216716096, 4)\n",
      "(6928123, 4)\n"
     ]
    }
   ],
   "execution_count": 1
  },
  {
   "metadata": {
    "ExecuteTime": {
     "end_time": "2025-09-11T03:15:30.594173Z",
     "start_time": "2025-09-11T03:15:30.583021Z"
    }
   },
   "cell_type": "code",
   "source": "train_df",
   "id": "8f2a2d6a90d8664b",
   "outputs": [
    {
     "data": {
      "text/plain": [
       "            session      aid          ts  type\n",
       "0                 0  1517085  1659304800     0\n",
       "1                 0  1563459  1659304904     0\n",
       "2                 0  1309446  1659367439     0\n",
       "3                 0    16246  1659367719     0\n",
       "4                 0  1781822  1659367871     0\n",
       "...             ...      ...         ...   ...\n",
       "216716091  12899776  1737908  1661723987     0\n",
       "216716092  12899777   384045  1661723976     0\n",
       "216716093  12899777   384045  1661723986     0\n",
       "216716094  12899778   561560  1661723983     0\n",
       "216716095  12899778    32070  1661723994     0\n",
       "\n",
       "[216716096 rows x 4 columns]"
      ],
      "text/html": [
       "<div>\n",
       "<style scoped>\n",
       "    .dataframe tbody tr th:only-of-type {\n",
       "        vertical-align: middle;\n",
       "    }\n",
       "\n",
       "    .dataframe tbody tr th {\n",
       "        vertical-align: top;\n",
       "    }\n",
       "\n",
       "    .dataframe thead th {\n",
       "        text-align: right;\n",
       "    }\n",
       "</style>\n",
       "<table border=\"1\" class=\"dataframe\">\n",
       "  <thead>\n",
       "    <tr style=\"text-align: right;\">\n",
       "      <th></th>\n",
       "      <th>session</th>\n",
       "      <th>aid</th>\n",
       "      <th>ts</th>\n",
       "      <th>type</th>\n",
       "    </tr>\n",
       "  </thead>\n",
       "  <tbody>\n",
       "    <tr>\n",
       "      <th>0</th>\n",
       "      <td>0</td>\n",
       "      <td>1517085</td>\n",
       "      <td>1659304800</td>\n",
       "      <td>0</td>\n",
       "    </tr>\n",
       "    <tr>\n",
       "      <th>1</th>\n",
       "      <td>0</td>\n",
       "      <td>1563459</td>\n",
       "      <td>1659304904</td>\n",
       "      <td>0</td>\n",
       "    </tr>\n",
       "    <tr>\n",
       "      <th>2</th>\n",
       "      <td>0</td>\n",
       "      <td>1309446</td>\n",
       "      <td>1659367439</td>\n",
       "      <td>0</td>\n",
       "    </tr>\n",
       "    <tr>\n",
       "      <th>3</th>\n",
       "      <td>0</td>\n",
       "      <td>16246</td>\n",
       "      <td>1659367719</td>\n",
       "      <td>0</td>\n",
       "    </tr>\n",
       "    <tr>\n",
       "      <th>4</th>\n",
       "      <td>0</td>\n",
       "      <td>1781822</td>\n",
       "      <td>1659367871</td>\n",
       "      <td>0</td>\n",
       "    </tr>\n",
       "    <tr>\n",
       "      <th>...</th>\n",
       "      <td>...</td>\n",
       "      <td>...</td>\n",
       "      <td>...</td>\n",
       "      <td>...</td>\n",
       "    </tr>\n",
       "    <tr>\n",
       "      <th>216716091</th>\n",
       "      <td>12899776</td>\n",
       "      <td>1737908</td>\n",
       "      <td>1661723987</td>\n",
       "      <td>0</td>\n",
       "    </tr>\n",
       "    <tr>\n",
       "      <th>216716092</th>\n",
       "      <td>12899777</td>\n",
       "      <td>384045</td>\n",
       "      <td>1661723976</td>\n",
       "      <td>0</td>\n",
       "    </tr>\n",
       "    <tr>\n",
       "      <th>216716093</th>\n",
       "      <td>12899777</td>\n",
       "      <td>384045</td>\n",
       "      <td>1661723986</td>\n",
       "      <td>0</td>\n",
       "    </tr>\n",
       "    <tr>\n",
       "      <th>216716094</th>\n",
       "      <td>12899778</td>\n",
       "      <td>561560</td>\n",
       "      <td>1661723983</td>\n",
       "      <td>0</td>\n",
       "    </tr>\n",
       "    <tr>\n",
       "      <th>216716095</th>\n",
       "      <td>12899778</td>\n",
       "      <td>32070</td>\n",
       "      <td>1661723994</td>\n",
       "      <td>0</td>\n",
       "    </tr>\n",
       "  </tbody>\n",
       "</table>\n",
       "<p>216716096 rows × 4 columns</p>\n",
       "</div>"
      ]
     },
     "execution_count": 2,
     "metadata": {},
     "output_type": "execute_result"
    }
   ],
   "execution_count": 2
  },
  {
   "metadata": {
    "ExecuteTime": {
     "end_time": "2025-09-11T03:15:30.719398Z",
     "start_time": "2025-09-11T03:15:30.714947Z"
    }
   },
   "cell_type": "code",
   "source": [
    "fraction_of_data = 1\n",
    "if fraction_of_data < 1 :\n",
    "    selected_session_train = train_df.drop_duplicates([\"session\"]).sample(frac=fraction_of_data,random_state=42)['session']\n",
    "    sampled_train_df = train_df[train_df['session'].isin(selected_session_train)]\n",
    "    selected_session_test = test_df.drop_duplicates([\"session\"]).sample(frac=fraction_of_data,random_state=42)['session']\n",
    "    sampled_test_df = test_df[test_df['session'].isin(selected_session_test)]\n",
    "else :\n",
    "    sampled_train_df = train_df\n",
    "    sampled_test_df = test_df\n"
   ],
   "id": "787f0821ecead579",
   "outputs": [],
   "execution_count": 3
  },
  {
   "metadata": {
    "ExecuteTime": {
     "end_time": "2025-09-11T03:15:30.836513Z",
     "start_time": "2025-09-11T03:15:30.832883Z"
    }
   },
   "cell_type": "code",
   "source": [
    "from collections import defaultdict,Counter\n",
    "\n",
    "next_aids = defaultdict(Counter)"
   ],
   "id": "38e24d79bf24fbe1",
   "outputs": [],
   "execution_count": 4
  },
  {
   "metadata": {
    "ExecuteTime": {
     "end_time": "2025-09-11T03:25:53.559988Z",
     "start_time": "2025-09-11T03:15:30.881867Z"
    }
   },
   "cell_type": "code",
   "source": [
    "from tqdm import tqdm\n",
    "all_df = pd.concat([sampled_train_df,sampled_test_df])\n",
    "chunk_size = 300000\n",
    "total = len(all_df)\n",
    "for i in tqdm(range(0,total,chunk_size)):\n",
    "    chunk = all_df[i:min(i+chunk_size,total)]\n",
    "    chunk = chunk.groupby(\"session\").nth(list(range(-30,0)))\n",
    "    chunk = chunk.merge(chunk,on=\"session\")\n",
    "    chunk = chunk[chunk['aid_x'] != chunk['aid_y']]\n",
    "    chunk['time_span'] = (chunk['ts_y'] - chunk['ts_x']) / (24*60*60)\n",
    "    chunk = chunk[(chunk['time_span'] >= 0) & (chunk['time_span'] <= 1)]\n",
    "    for aid_x, aid_y in zip(chunk['aid_x'],chunk['aid_y']):\n",
    "        next_aids[aid_x][aid_y] += 1\n"
   ],
   "id": "cab415c1825e6cd5",
   "outputs": [
    {
     "name": "stderr",
     "output_type": "stream",
     "text": [
      "100%|██████████| 746/746 [10:20<00:00,  1.20it/s]\n"
     ]
    }
   ],
   "execution_count": 5
  },
  {
   "metadata": {
    "ExecuteTime": {
     "end_time": "2025-09-11T04:29:24.750331Z",
     "start_time": "2025-09-11T04:27:12.213226Z"
    }
   },
   "cell_type": "code",
   "source": [
    "test_session_aids = test_df.groupby(\"session\")['aid'].apply(list)\n",
    "test_session_types = test_df.groupby(\"session\")['type'].apply(list)"
   ],
   "id": "1f2b430edc2d5138",
   "outputs": [],
   "execution_count": 13
  },
  {
   "metadata": {
    "ExecuteTime": {
     "end_time": "2025-09-11T03:31:44.930706Z",
     "start_time": "2025-09-11T03:31:44.922391Z"
    }
   },
   "cell_type": "code",
   "source": "test_session_types",
   "id": "9d80dc0dadc3f17e",
   "outputs": [
    {
     "data": {
      "text/plain": [
       "session\n",
       "12899779                                                  [0]\n",
       "12899780                                      [0, 0, 0, 0, 0]\n",
       "12899781                    [0, 0, 0, 0, 0, 0, 1, 0, 0, 0, 0]\n",
       "12899782    [0, 0, 0, 0, 1, 0, 0, 0, 0, 0, 0, 1, 0, 0, 0, ...\n",
       "12899783                    [0, 0, 0, 0, 0, 0, 0, 0, 0, 0, 0]\n",
       "                                  ...                        \n",
       "14571577                                                  [0]\n",
       "14571578                                                  [0]\n",
       "14571579                                                  [0]\n",
       "14571580                                                  [0]\n",
       "14571581                                                  [0]\n",
       "Name: type, Length: 1671803, dtype: object"
      ]
     },
     "execution_count": 7,
     "metadata": {},
     "output_type": "execute_result"
    }
   ],
   "execution_count": 7
  },
  {
   "metadata": {
    "ExecuteTime": {
     "end_time": "2025-09-11T04:09:10.409388Z",
     "start_time": "2025-09-11T03:31:44.971549Z"
    }
   },
   "cell_type": "code",
   "source": [
    "labels = []\n",
    "for aids , types in tqdm(zip(test_session_aids,test_session_types),total=len(test_session_aids)) :\n",
    "    if len(aids) < 20 :\n",
    "        candidates = []\n",
    "        for aid in aids:\n",
    "            if aid in next_aids :\n",
    "                candidates += [key for key,val in next_aids[aid].most_common(20)]\n",
    "        aids += [key for key , val in Counter(candidates).most_common(40) if key not in aids]\n",
    "        labels.append(aids[:20])\n",
    "    else :\n",
    "        weights = np.logspace(0.1,1,base=2,endpoint=True)\n",
    "        type_weights = {0 : 1, 1 : 6 , 2 : 3}\n",
    "        scores = defaultdict(int)\n",
    "        for aid, w, t in zip(aids,weights,types):\n",
    "            scores[aid] += w * type_weights[t]\n",
    "        candidates = [k for k , val in sorted(scores.items(),key=lambda x : - x[1])]\n",
    "        labels.append(candidates[:20])\n",
    "\n"
   ],
   "id": "b58bba3dbfde210b",
   "outputs": [
    {
     "name": "stderr",
     "output_type": "stream",
     "text": [
      "100%|██████████| 1671803/1671803 [37:25<00:00, 744.54it/s]  \n"
     ]
    }
   ],
   "execution_count": 8
  },
  {
   "metadata": {
    "ExecuteTime": {
     "end_time": "2025-09-11T04:15:41.704843Z",
     "start_time": "2025-09-11T04:15:39.377602Z"
    }
   },
   "cell_type": "code",
   "source": [
    "predictions = pd.DataFrame(data={\"session_type\" : test_session_aids.index, \"labels\" : labels})\n",
    "session_types = ['clicks','carts','orders']\n",
    "submission = []\n",
    "for session_type in tqdm(session_types) :\n",
    "    cur_sub = predictions.copy()\n",
    "    cur_sub['session_type'] = predictions['session_type'].astype(str) + f'_{session_type}'\n",
    "    submission.append(cur_sub)\n",
    "submission = pd.concat(submission).set_index('session_type')\n",
    "submission"
   ],
   "id": "e6dd914aaf4f5c8e",
   "outputs": [
    {
     "name": "stderr",
     "output_type": "stream",
     "text": [
      "100%|██████████| 3/3 [00:01<00:00,  2.27it/s]\n"
     ]
    },
    {
     "data": {
      "text/plain": [
       "                                                            labels\n",
       "session_type                                                      \n",
       "12899779_clicks  [59625, 894169, 737445, 1246235, 499621, 46928...\n",
       "12899780_clicks  [1142000, 582732, 973453, 736515, 1142000, 889...\n",
       "12899781_clicks  [141736, 199008, 57315, 194067, 199008, 199008...\n",
       "12899782_clicks  [779477, 834354, 889671, 476063, 975116, 59599...\n",
       "12899783_clicks  [255297, 1114789, 255297, 300127, 198385, 3001...\n",
       "...                                                            ...\n",
       "14571577_orders  [1141710, 1276792, 1666114, 367734, 1004292, 8...\n",
       "14571578_orders  [519105, 977826, 1811714, 815460, 735459, 8226...\n",
       "14571579_orders  [739876, 1209992, 1550479, 1750859, 785544, 14...\n",
       "14571580_orders  [202353, 925638, 1231403, 871658, 721096, 8882...\n",
       "14571581_orders  [1100210, 1684953, 622489, 1158237, 462056, 15...\n",
       "\n",
       "[5015409 rows x 1 columns]"
      ],
      "text/html": [
       "<div>\n",
       "<style scoped>\n",
       "    .dataframe tbody tr th:only-of-type {\n",
       "        vertical-align: middle;\n",
       "    }\n",
       "\n",
       "    .dataframe tbody tr th {\n",
       "        vertical-align: top;\n",
       "    }\n",
       "\n",
       "    .dataframe thead th {\n",
       "        text-align: right;\n",
       "    }\n",
       "</style>\n",
       "<table border=\"1\" class=\"dataframe\">\n",
       "  <thead>\n",
       "    <tr style=\"text-align: right;\">\n",
       "      <th></th>\n",
       "      <th>labels</th>\n",
       "    </tr>\n",
       "    <tr>\n",
       "      <th>session_type</th>\n",
       "      <th></th>\n",
       "    </tr>\n",
       "  </thead>\n",
       "  <tbody>\n",
       "    <tr>\n",
       "      <th>12899779_clicks</th>\n",
       "      <td>[59625, 894169, 737445, 1246235, 499621, 46928...</td>\n",
       "    </tr>\n",
       "    <tr>\n",
       "      <th>12899780_clicks</th>\n",
       "      <td>[1142000, 582732, 973453, 736515, 1142000, 889...</td>\n",
       "    </tr>\n",
       "    <tr>\n",
       "      <th>12899781_clicks</th>\n",
       "      <td>[141736, 199008, 57315, 194067, 199008, 199008...</td>\n",
       "    </tr>\n",
       "    <tr>\n",
       "      <th>12899782_clicks</th>\n",
       "      <td>[779477, 834354, 889671, 476063, 975116, 59599...</td>\n",
       "    </tr>\n",
       "    <tr>\n",
       "      <th>12899783_clicks</th>\n",
       "      <td>[255297, 1114789, 255297, 300127, 198385, 3001...</td>\n",
       "    </tr>\n",
       "    <tr>\n",
       "      <th>...</th>\n",
       "      <td>...</td>\n",
       "    </tr>\n",
       "    <tr>\n",
       "      <th>14571577_orders</th>\n",
       "      <td>[1141710, 1276792, 1666114, 367734, 1004292, 8...</td>\n",
       "    </tr>\n",
       "    <tr>\n",
       "      <th>14571578_orders</th>\n",
       "      <td>[519105, 977826, 1811714, 815460, 735459, 8226...</td>\n",
       "    </tr>\n",
       "    <tr>\n",
       "      <th>14571579_orders</th>\n",
       "      <td>[739876, 1209992, 1550479, 1750859, 785544, 14...</td>\n",
       "    </tr>\n",
       "    <tr>\n",
       "      <th>14571580_orders</th>\n",
       "      <td>[202353, 925638, 1231403, 871658, 721096, 8882...</td>\n",
       "    </tr>\n",
       "    <tr>\n",
       "      <th>14571581_orders</th>\n",
       "      <td>[1100210, 1684953, 622489, 1158237, 462056, 15...</td>\n",
       "    </tr>\n",
       "  </tbody>\n",
       "</table>\n",
       "<p>5015409 rows × 1 columns</p>\n",
       "</div>"
      ]
     },
     "execution_count": 9,
     "metadata": {},
     "output_type": "execute_result"
    }
   ],
   "execution_count": 9
  },
  {
   "metadata": {
    "ExecuteTime": {
     "end_time": "2025-09-11T04:16:20.595308Z",
     "start_time": "2025-09-11T04:15:41.717302Z"
    }
   },
   "cell_type": "code",
   "source": "submission = submission['labels'].apply(lambda x : ' '.join(map(str,x)))",
   "id": "16e0d28e509c8efb",
   "outputs": [],
   "execution_count": 10
  },
  {
   "metadata": {
    "ExecuteTime": {
     "end_time": "2025-09-11T04:20:31.200896Z",
     "start_time": "2025-09-11T04:20:29.530001Z"
    }
   },
   "cell_type": "code",
   "source": "submission",
   "id": "4885c5953d57303d",
   "outputs": [
    {
     "data": {
      "text/plain": [
       "session_type\n",
       "12899779_clicks    59625 894169 737445 1246235 499621 469285 9415...\n",
       "12899780_clicks    1142000 582732 973453 736515 1142000 889686 48...\n",
       "12899781_clicks    141736 199008 57315 194067 199008 199008 19900...\n",
       "12899782_clicks    779477 834354 889671 476063 975116 595994 1344...\n",
       "12899783_clicks    255297 1114789 255297 300127 198385 300127 172...\n",
       "                                         ...                        \n",
       "14571577_orders    1141710 1276792 1666114 367734 1004292 86916 8...\n",
       "14571578_orders    519105 977826 1811714 815460 735459 822641 167...\n",
       "14571579_orders    739876 1209992 1550479 1750859 785544 1434015 ...\n",
       "14571580_orders    202353 925638 1231403 871658 721096 888228 433...\n",
       "14571581_orders    1100210 1684953 622489 1158237 462056 1571699 ...\n",
       "Name: labels, Length: 5015409, dtype: object"
      ]
     },
     "execution_count": 11,
     "metadata": {},
     "output_type": "execute_result"
    }
   ],
   "execution_count": 11
  },
  {
   "metadata": {
    "ExecuteTime": {
     "end_time": "2025-09-11T04:20:39.962571Z",
     "start_time": "2025-09-11T04:20:31.310153Z"
    }
   },
   "cell_type": "code",
   "source": "submission.to_csv(\"./submission.csv\")",
   "id": "48b37cf4060c34a2",
   "outputs": [],
   "execution_count": 12
  }
 ],
 "metadata": {
  "kernelspec": {
   "display_name": "Python 3",
   "language": "python",
   "name": "python3"
  },
  "language_info": {
   "codemirror_mode": {
    "name": "ipython",
    "version": 2
   },
   "file_extension": ".py",
   "mimetype": "text/x-python",
   "name": "python",
   "nbconvert_exporter": "python",
   "pygments_lexer": "ipython2",
   "version": "2.7.6"
  }
 },
 "nbformat": 4,
 "nbformat_minor": 5
}
