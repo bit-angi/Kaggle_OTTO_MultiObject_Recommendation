{
 "cells": [
  {
   "cell_type": "code",
   "id": "initial_id",
   "metadata": {
    "collapsed": true,
    "ExecuteTime": {
     "end_time": "2025-09-16T08:17:24.350326Z",
     "start_time": "2025-09-16T08:17:24.346280Z"
    }
   },
   "source": "import pandas as pd",
   "outputs": [],
   "execution_count": 32
  },
  {
   "metadata": {
    "ExecuteTime": {
     "end_time": "2025-09-16T08:25:15.557558Z",
     "start_time": "2025-09-16T08:25:15.232773Z"
    }
   },
   "cell_type": "code",
   "source": "df = pd.read_parquet(\"../data/test.parquet\")",
   "id": "f5127fa5db42600a",
   "outputs": [],
   "execution_count": 42
  },
  {
   "metadata": {
    "ExecuteTime": {
     "end_time": "2025-09-16T08:28:44.584578Z",
     "start_time": "2025-09-16T08:28:44.577473Z"
    }
   },
   "cell_type": "code",
   "source": "df",
   "id": "5a51fb535462e51e",
   "outputs": [
    {
     "data": {
      "text/plain": [
       "          session      aid          ts  type\n",
       "0        12899779    59625  1661724000     0\n",
       "1        12899780  1142000  1661724000     0\n",
       "2        12899780   582732  1661724058     0\n",
       "3        12899780   973453  1661724109     0\n",
       "4        12899780   736515  1661724136     0\n",
       "...           ...      ...         ...   ...\n",
       "6928118  14571577  1141710  1662328774     0\n",
       "6928119  14571578   519105  1662328775     0\n",
       "6928120  14571579   739876  1662328775     0\n",
       "6928121  14571580   202353  1662328781     0\n",
       "6928122  14571581  1100210  1662328791     0\n",
       "\n",
       "[6928123 rows x 4 columns]"
      ],
      "text/html": [
       "<div>\n",
       "<style scoped>\n",
       "    .dataframe tbody tr th:only-of-type {\n",
       "        vertical-align: middle;\n",
       "    }\n",
       "\n",
       "    .dataframe tbody tr th {\n",
       "        vertical-align: top;\n",
       "    }\n",
       "\n",
       "    .dataframe thead th {\n",
       "        text-align: right;\n",
       "    }\n",
       "</style>\n",
       "<table border=\"1\" class=\"dataframe\">\n",
       "  <thead>\n",
       "    <tr style=\"text-align: right;\">\n",
       "      <th></th>\n",
       "      <th>session</th>\n",
       "      <th>aid</th>\n",
       "      <th>ts</th>\n",
       "      <th>type</th>\n",
       "    </tr>\n",
       "  </thead>\n",
       "  <tbody>\n",
       "    <tr>\n",
       "      <th>0</th>\n",
       "      <td>12899779</td>\n",
       "      <td>59625</td>\n",
       "      <td>1661724000</td>\n",
       "      <td>0</td>\n",
       "    </tr>\n",
       "    <tr>\n",
       "      <th>1</th>\n",
       "      <td>12899780</td>\n",
       "      <td>1142000</td>\n",
       "      <td>1661724000</td>\n",
       "      <td>0</td>\n",
       "    </tr>\n",
       "    <tr>\n",
       "      <th>2</th>\n",
       "      <td>12899780</td>\n",
       "      <td>582732</td>\n",
       "      <td>1661724058</td>\n",
       "      <td>0</td>\n",
       "    </tr>\n",
       "    <tr>\n",
       "      <th>3</th>\n",
       "      <td>12899780</td>\n",
       "      <td>973453</td>\n",
       "      <td>1661724109</td>\n",
       "      <td>0</td>\n",
       "    </tr>\n",
       "    <tr>\n",
       "      <th>4</th>\n",
       "      <td>12899780</td>\n",
       "      <td>736515</td>\n",
       "      <td>1661724136</td>\n",
       "      <td>0</td>\n",
       "    </tr>\n",
       "    <tr>\n",
       "      <th>...</th>\n",
       "      <td>...</td>\n",
       "      <td>...</td>\n",
       "      <td>...</td>\n",
       "      <td>...</td>\n",
       "    </tr>\n",
       "    <tr>\n",
       "      <th>6928118</th>\n",
       "      <td>14571577</td>\n",
       "      <td>1141710</td>\n",
       "      <td>1662328774</td>\n",
       "      <td>0</td>\n",
       "    </tr>\n",
       "    <tr>\n",
       "      <th>6928119</th>\n",
       "      <td>14571578</td>\n",
       "      <td>519105</td>\n",
       "      <td>1662328775</td>\n",
       "      <td>0</td>\n",
       "    </tr>\n",
       "    <tr>\n",
       "      <th>6928120</th>\n",
       "      <td>14571579</td>\n",
       "      <td>739876</td>\n",
       "      <td>1662328775</td>\n",
       "      <td>0</td>\n",
       "    </tr>\n",
       "    <tr>\n",
       "      <th>6928121</th>\n",
       "      <td>14571580</td>\n",
       "      <td>202353</td>\n",
       "      <td>1662328781</td>\n",
       "      <td>0</td>\n",
       "    </tr>\n",
       "    <tr>\n",
       "      <th>6928122</th>\n",
       "      <td>14571581</td>\n",
       "      <td>1100210</td>\n",
       "      <td>1662328791</td>\n",
       "      <td>0</td>\n",
       "    </tr>\n",
       "  </tbody>\n",
       "</table>\n",
       "<p>6928123 rows × 4 columns</p>\n",
       "</div>"
      ]
     },
     "execution_count": 50,
     "metadata": {},
     "output_type": "execute_result"
    }
   ],
   "execution_count": 50
  },
  {
   "metadata": {
    "ExecuteTime": {
     "end_time": "2025-09-16T08:28:45.865291Z",
     "start_time": "2025-09-16T08:28:45.750758Z"
    }
   },
   "cell_type": "code",
   "source": [
    "from tqdm import tqdm\n",
    "\n",
    "# 使用 pandas 的 value_counts() 统计 'type' 列的频数\n",
    "type_num = df['type'].value_counts().to_dict()\n",
    "\n",
    "print(\"三种标签的数量： \",type_num)\n",
    "print(len(df[\"session\"].value_counts()))\n"
   ],
   "id": "39f072cbe1df2e4c",
   "outputs": [
    {
     "name": "stdout",
     "output_type": "stream",
     "text": [
      "三种标签的数量：  {0: 6292632, 1: 570011, 2: 65480}\n",
      "1671803\n"
     ]
    }
   ],
   "execution_count": 51
  },
  {
   "metadata": {
    "ExecuteTime": {
     "end_time": "2025-09-16T08:28:47.992483Z",
     "start_time": "2025-09-16T08:28:46.495548Z"
    }
   },
   "cell_type": "code",
   "source": [
    "import matplotlib.pyplot as plt\n",
    "import pandas as pd\n",
    "from tqdm import tqdm\n",
    "\n",
    "# 假设 df['events'] 中的数据是这种结构\n",
    "# 使用 pandas 提取时间戳并进行统计\n",
    "timestamps = []\n",
    "\n",
    "# 遍历 DataFrame 中的每一行，提取时间戳\n",
    "\n",
    "\n",
    "# 将时间戳转换为 pandas datetime 格式（毫秒级）\n",
    "timestamp_series = pd.to_datetime(df['ts'], unit='s')\n",
    "# 使用 pandas value_counts 统计频率\n",
    "times = timestamp_series.value_counts().sort_index()\n",
    "\n",
    "# 分离出时间和事件计数数据\n",
    "time_series = times.index\n",
    "counts = times.values\n",
    "\n",
    "# 创建图形并绘制数据\n",
    "plt.figure(figsize=(10, 6))\n",
    "plt.plot(time_series, counts, marker='o', color='b', linestyle='-', label='Event Count')\n",
    "\n",
    "# 设置图表标题和标签\n",
    "plt.title('Time Series Plot')\n",
    "plt.xlabel('Date')\n",
    "plt.ylabel('Event Count')\n",
    "\n",
    "# 显示图例\n",
    "plt.legend()\n",
    "\n",
    "# 自动调整日期标签显示方式\n",
    "plt.xticks(rotation=45)\n",
    "\n",
    "# 显示图表\n",
    "plt.tight_layout()\n",
    "plt.show()\n"
   ],
   "id": "f10885e8ed532220",
   "outputs": [
    {
     "data": {
      "text/plain": [
       "<Figure size 1000x600 with 1 Axes>"
      ],
      "image/png": "[encoded data removed]"
     },
     "metadata": {},
     "output_type": "display_data",
     "jetTransient": {
      "display_id": null
     }
    }
   ],
   "execution_count": 52
  },
  {
   "metadata": {
    "ExecuteTime": {
     "end_time": "2025-09-16T08:28:50.149199Z",
     "start_time": "2025-09-16T08:28:50.144090Z"
    }
   },
   "cell_type": "code",
   "source": "times.index.min()",
   "id": "3153b4c2f9fd36a1",
   "outputs": [
    {
     "data": {
      "text/plain": [
       "Timestamp('2022-08-28 22:00:00')"
      ]
     },
     "execution_count": 53,
     "metadata": {},
     "output_type": "execute_result"
    }
   ],
   "execution_count": 53
  },
  {
   "metadata": {
    "ExecuteTime": {
     "end_time": "2025-09-16T08:28:51.270817Z",
     "start_time": "2025-09-16T08:28:51.265426Z"
    }
   },
   "cell_type": "code",
   "source": "times.index.max()",
   "id": "17b5eb5d9f1d4a73",
   "outputs": [
    {
     "data": {
      "text/plain": [
       "Timestamp('2022-09-04 21:59:51')"
      ]
     },
     "execution_count": 54,
     "metadata": {},
     "output_type": "execute_result"
    }
   ],
   "execution_count": 54
  },
  {
   "metadata": {
    "ExecuteTime": {
     "end_time": "2025-09-09T09:51:00.303247Z",
     "start_time": "2025-09-09T09:51:00.297940Z"
    }
   },
   "cell_type": "markdown",
   "source": "# 训练集的统计",
   "id": "b8966d09e342bfef"
  },
  {
   "metadata": {
    "ExecuteTime": {
     "end_time": "2025-09-16T08:25:27.269569Z",
     "start_time": "2025-09-16T08:25:23.414570Z"
    }
   },
   "cell_type": "code",
   "source": [
    "train_df = pd.read_parquet(\"../data/train.parquet\")\n",
    "train_df.head()"
   ],
   "id": "667c08b03996105c",
   "outputs": [
    {
     "data": {
      "text/plain": [
       "   session      aid          ts  type\n",
       "0        0  1517085  1659304800     0\n",
       "1        0  1563459  1659304904     0\n",
       "2        0  1309446  1659367439     0\n",
       "3        0    16246  1659367719     0\n",
       "4        0  1781822  1659367871     0"
      ],
      "text/html": [
       "<div>\n",
       "<style scoped>\n",
       "    .dataframe tbody tr th:only-of-type {\n",
       "        vertical-align: middle;\n",
       "    }\n",
       "\n",
       "    .dataframe tbody tr th {\n",
       "        vertical-align: top;\n",
       "    }\n",
       "\n",
       "    .dataframe thead th {\n",
       "        text-align: right;\n",
       "    }\n",
       "</style>\n",
       "<table border=\"1\" class=\"dataframe\">\n",
       "  <thead>\n",
       "    <tr style=\"text-align: right;\">\n",
       "      <th></th>\n",
       "      <th>session</th>\n",
       "      <th>aid</th>\n",
       "      <th>ts</th>\n",
       "      <th>type</th>\n",
       "    </tr>\n",
       "  </thead>\n",
       "  <tbody>\n",
       "    <tr>\n",
       "      <th>0</th>\n",
       "      <td>0</td>\n",
       "      <td>1517085</td>\n",
       "      <td>1659304800</td>\n",
       "      <td>0</td>\n",
       "    </tr>\n",
       "    <tr>\n",
       "      <th>1</th>\n",
       "      <td>0</td>\n",
       "      <td>1563459</td>\n",
       "      <td>1659304904</td>\n",
       "      <td>0</td>\n",
       "    </tr>\n",
       "    <tr>\n",
       "      <th>2</th>\n",
       "      <td>0</td>\n",
       "      <td>1309446</td>\n",
       "      <td>1659367439</td>\n",
       "      <td>0</td>\n",
       "    </tr>\n",
       "    <tr>\n",
       "      <th>3</th>\n",
       "      <td>0</td>\n",
       "      <td>16246</td>\n",
       "      <td>1659367719</td>\n",
       "      <td>0</td>\n",
       "    </tr>\n",
       "    <tr>\n",
       "      <th>4</th>\n",
       "      <td>0</td>\n",
       "      <td>1781822</td>\n",
       "      <td>1659367871</td>\n",
       "      <td>0</td>\n",
       "    </tr>\n",
       "  </tbody>\n",
       "</table>\n",
       "</div>"
      ]
     },
     "execution_count": 48,
     "metadata": {},
     "output_type": "execute_result"
    }
   ],
   "execution_count": 48
  },
  {
   "metadata": {
    "ExecuteTime": {
     "end_time": "2025-09-16T08:25:47.909667Z",
     "start_time": "2025-09-16T08:25:42.754378Z"
    }
   },
   "cell_type": "code",
   "source": [
    "import matplotlib.pyplot as plt\n",
    "import pandas as pd\n",
    "\n",
    "# 假设 train_df 是你的 DataFrame，包含 'session' 列\n",
    "# 计算每个 session 出现的次数\n",
    "session_counts = train_df['session'].value_counts()\n",
    "\n",
    "# 计算每个记录数出现的频率（即有多少个 session 有 1 条数据、2 条数据，依此类推）\n",
    "count_distribution = session_counts.value_counts().sort_index()\n",
    "\n",
    "# 绘制记录数分布的条形图\n",
    "plt.figure(figsize=(10, 6))\n",
    "count_distribution.plot(kind='bar', color='b', alpha=0.7)\n",
    "\n",
    "# 设置图表标题和标签\n",
    "plt.title('Session Count Distribution (Number of Records per Session)')\n",
    "plt.xlabel('Number of Records per Session')\n",
    "plt.ylabel('Number of Sessions')\n",
    "\n",
    "# 显示图表\n",
    "plt.tight_layout()\n",
    "plt.show()\n"
   ],
   "id": "1ab70a919a0b728d",
   "outputs": [
    {
     "data": {
      "text/plain": [
       "<Figure size 1000x600 with 1 Axes>"
      ],
      "image/png": "[encoded data removed]"
     },
     "metadata": {},
     "output_type": "display_data",
     "jetTransient": {
      "display_id": null
     }
    }
   ],
   "execution_count": 49
  },
  {
   "metadata": {},
   "cell_type": "markdown",
   "source": "可以看到，session的count呈现明显的长尾分布",
   "id": "597158659f21e67a"
  },
  {
   "metadata": {
    "ExecuteTime": {
     "end_time": "2025-09-15T08:17:56.241363Z",
     "start_time": "2025-09-15T08:17:56.232302Z"
    }
   },
   "cell_type": "code",
   "source": "df",
   "id": "cd908f1d97cbb142",
   "outputs": [
    {
     "data": {
      "text/plain": [
       "          session      aid          ts  type\n",
       "0        12899779    59625  1661724000     0\n",
       "1        12899780  1142000  1661724000     0\n",
       "2        12899780   582732  1661724058     0\n",
       "3        12899780   973453  1661724109     0\n",
       "4        12899780   736515  1661724136     0\n",
       "...           ...      ...         ...   ...\n",
       "6928118  14571577  1141710  1662328774     0\n",
       "6928119  14571578   519105  1662328775     0\n",
       "6928120  14571579   739876  1662328775     0\n",
       "6928121  14571580   202353  1662328781     0\n",
       "6928122  14571581  1100210  1662328791     0\n",
       "\n",
       "[6928123 rows x 4 columns]"
      ],
      "text/html": [
       "<div>\n",
       "<style scoped>\n",
       "    .dataframe tbody tr th:only-of-type {\n",
       "        vertical-align: middle;\n",
       "    }\n",
       "\n",
       "    .dataframe tbody tr th {\n",
       "        vertical-align: top;\n",
       "    }\n",
       "\n",
       "    .dataframe thead th {\n",
       "        text-align: right;\n",
       "    }\n",
       "</style>\n",
       "<table border=\"1\" class=\"dataframe\">\n",
       "  <thead>\n",
       "    <tr style=\"text-align: right;\">\n",
       "      <th></th>\n",
       "      <th>session</th>\n",
       "      <th>aid</th>\n",
       "      <th>ts</th>\n",
       "      <th>type</th>\n",
       "    </tr>\n",
       "  </thead>\n",
       "  <tbody>\n",
       "    <tr>\n",
       "      <th>0</th>\n",
       "      <td>12899779</td>\n",
       "      <td>59625</td>\n",
       "      <td>1661724000</td>\n",
       "      <td>0</td>\n",
       "    </tr>\n",
       "    <tr>\n",
       "      <th>1</th>\n",
       "      <td>12899780</td>\n",
       "      <td>1142000</td>\n",
       "      <td>1661724000</td>\n",
       "      <td>0</td>\n",
       "    </tr>\n",
       "    <tr>\n",
       "      <th>2</th>\n",
       "      <td>12899780</td>\n",
       "      <td>582732</td>\n",
       "      <td>1661724058</td>\n",
       "      <td>0</td>\n",
       "    </tr>\n",
       "    <tr>\n",
       "      <th>3</th>\n",
       "      <td>12899780</td>\n",
       "      <td>973453</td>\n",
       "      <td>1661724109</td>\n",
       "      <td>0</td>\n",
       "    </tr>\n",
       "    <tr>\n",
       "      <th>4</th>\n",
       "      <td>12899780</td>\n",
       "      <td>736515</td>\n",
       "      <td>1661724136</td>\n",
       "      <td>0</td>\n",
       "    </tr>\n",
       "    <tr>\n",
       "      <th>...</th>\n",
       "      <td>...</td>\n",
       "      <td>...</td>\n",
       "      <td>...</td>\n",
       "      <td>...</td>\n",
       "    </tr>\n",
       "    <tr>\n",
       "      <th>6928118</th>\n",
       "      <td>14571577</td>\n",
       "      <td>1141710</td>\n",
       "      <td>1662328774</td>\n",
       "      <td>0</td>\n",
       "    </tr>\n",
       "    <tr>\n",
       "      <th>6928119</th>\n",
       "      <td>14571578</td>\n",
       "      <td>519105</td>\n",
       "      <td>1662328775</td>\n",
       "      <td>0</td>\n",
       "    </tr>\n",
       "    <tr>\n",
       "      <th>6928120</th>\n",
       "      <td>14571579</td>\n",
       "      <td>739876</td>\n",
       "      <td>1662328775</td>\n",
       "      <td>0</td>\n",
       "    </tr>\n",
       "    <tr>\n",
       "      <th>6928121</th>\n",
       "      <td>14571580</td>\n",
       "      <td>202353</td>\n",
       "      <td>1662328781</td>\n",
       "      <td>0</td>\n",
       "    </tr>\n",
       "    <tr>\n",
       "      <th>6928122</th>\n",
       "      <td>14571581</td>\n",
       "      <td>1100210</td>\n",
       "      <td>1662328791</td>\n",
       "      <td>0</td>\n",
       "    </tr>\n",
       "  </tbody>\n",
       "</table>\n",
       "<p>6928123 rows × 4 columns</p>\n",
       "</div>"
      ]
     },
     "execution_count": 3,
     "metadata": {},
     "output_type": "execute_result"
    }
   ],
   "execution_count": 3
  },
  {
   "metadata": {
    "ExecuteTime": {
     "end_time": "2025-09-15T08:21:44.240486Z",
     "start_time": "2025-09-15T08:21:39.405914Z"
    }
   },
   "cell_type": "code",
   "source": "df['lasttime'] = df.groupby(\"session\")['ts'].transform(\"max\")",
   "id": "9067f68a81f7feac",
   "outputs": [],
   "execution_count": 8
  },
  {
   "metadata": {
    "ExecuteTime": {
     "end_time": "2025-09-15T08:21:45.705139Z",
     "start_time": "2025-09-15T08:21:45.698232Z"
    }
   },
   "cell_type": "code",
   "source": "df",
   "id": "53b92991d296b0b6",
   "outputs": [
    {
     "data": {
      "text/plain": [
       "            session      aid          ts  type    lasttime\n",
       "0                 0  1517085  1659304800     0  1661684983\n",
       "1                 0  1563459  1659304904     0  1661684983\n",
       "2                 0  1309446  1659367439     0  1661684983\n",
       "3                 0    16246  1659367719     0  1661684983\n",
       "4                 0  1781822  1659367871     0  1661684983\n",
       "...             ...      ...         ...   ...         ...\n",
       "216716091  12899776  1737908  1661723987     0  1661723987\n",
       "216716092  12899777   384045  1661723976     0  1661723986\n",
       "216716093  12899777   384045  1661723986     0  1661723986\n",
       "216716094  12899778   561560  1661723983     0  1661723994\n",
       "216716095  12899778    32070  1661723994     0  1661723994\n",
       "\n",
       "[216716096 rows x 5 columns]"
      ],
      "text/html": [
       "<div>\n",
       "<style scoped>\n",
       "    .dataframe tbody tr th:only-of-type {\n",
       "        vertical-align: middle;\n",
       "    }\n",
       "\n",
       "    .dataframe tbody tr th {\n",
       "        vertical-align: top;\n",
       "    }\n",
       "\n",
       "    .dataframe thead th {\n",
       "        text-align: right;\n",
       "    }\n",
       "</style>\n",
       "<table border=\"1\" class=\"dataframe\">\n",
       "  <thead>\n",
       "    <tr style=\"text-align: right;\">\n",
       "      <th></th>\n",
       "      <th>session</th>\n",
       "      <th>aid</th>\n",
       "      <th>ts</th>\n",
       "      <th>type</th>\n",
       "      <th>lasttime</th>\n",
       "    </tr>\n",
       "  </thead>\n",
       "  <tbody>\n",
       "    <tr>\n",
       "      <th>0</th>\n",
       "      <td>0</td>\n",
       "      <td>1517085</td>\n",
       "      <td>1659304800</td>\n",
       "      <td>0</td>\n",
       "      <td>1661684983</td>\n",
       "    </tr>\n",
       "    <tr>\n",
       "      <th>1</th>\n",
       "      <td>0</td>\n",
       "      <td>1563459</td>\n",
       "      <td>1659304904</td>\n",
       "      <td>0</td>\n",
       "      <td>1661684983</td>\n",
       "    </tr>\n",
       "    <tr>\n",
       "      <th>2</th>\n",
       "      <td>0</td>\n",
       "      <td>1309446</td>\n",
       "      <td>1659367439</td>\n",
       "      <td>0</td>\n",
       "      <td>1661684983</td>\n",
       "    </tr>\n",
       "    <tr>\n",
       "      <th>3</th>\n",
       "      <td>0</td>\n",
       "      <td>16246</td>\n",
       "      <td>1659367719</td>\n",
       "      <td>0</td>\n",
       "      <td>1661684983</td>\n",
       "    </tr>\n",
       "    <tr>\n",
       "      <th>4</th>\n",
       "      <td>0</td>\n",
       "      <td>1781822</td>\n",
       "      <td>1659367871</td>\n",
       "      <td>0</td>\n",
       "      <td>1661684983</td>\n",
       "    </tr>\n",
       "    <tr>\n",
       "      <th>...</th>\n",
       "      <td>...</td>\n",
       "      <td>...</td>\n",
       "      <td>...</td>\n",
       "      <td>...</td>\n",
       "      <td>...</td>\n",
       "    </tr>\n",
       "    <tr>\n",
       "      <th>216716091</th>\n",
       "      <td>12899776</td>\n",
       "      <td>1737908</td>\n",
       "      <td>1661723987</td>\n",
       "      <td>0</td>\n",
       "      <td>1661723987</td>\n",
       "    </tr>\n",
       "    <tr>\n",
       "      <th>216716092</th>\n",
       "      <td>12899777</td>\n",
       "      <td>384045</td>\n",
       "      <td>1661723976</td>\n",
       "      <td>0</td>\n",
       "      <td>1661723986</td>\n",
       "    </tr>\n",
       "    <tr>\n",
       "      <th>216716093</th>\n",
       "      <td>12899777</td>\n",
       "      <td>384045</td>\n",
       "      <td>1661723986</td>\n",
       "      <td>0</td>\n",
       "      <td>1661723986</td>\n",
       "    </tr>\n",
       "    <tr>\n",
       "      <th>216716094</th>\n",
       "      <td>12899778</td>\n",
       "      <td>561560</td>\n",
       "      <td>1661723983</td>\n",
       "      <td>0</td>\n",
       "      <td>1661723994</td>\n",
       "    </tr>\n",
       "    <tr>\n",
       "      <th>216716095</th>\n",
       "      <td>12899778</td>\n",
       "      <td>32070</td>\n",
       "      <td>1661723994</td>\n",
       "      <td>0</td>\n",
       "      <td>1661723994</td>\n",
       "    </tr>\n",
       "  </tbody>\n",
       "</table>\n",
       "<p>216716096 rows × 5 columns</p>\n",
       "</div>"
      ]
     },
     "execution_count": 9,
     "metadata": {},
     "output_type": "execute_result"
    }
   ],
   "execution_count": 9
  },
  {
   "metadata": {
    "ExecuteTime": {
     "end_time": "2025-09-15T08:23:13.788498Z",
     "start_time": "2025-09-15T08:23:11.021126Z"
    }
   },
   "cell_type": "code",
   "source": "df = df[df['lasttime']-df['ts'] <= 24*60*60]",
   "id": "56ff4e452e30841b",
   "outputs": [],
   "execution_count": 10
  },
  {
   "metadata": {
    "ExecuteTime": {
     "end_time": "2025-09-15T08:23:16.271687Z",
     "start_time": "2025-09-15T08:23:16.265111Z"
    }
   },
   "cell_type": "code",
   "source": "df",
   "id": "bd288567c39fb2e7",
   "outputs": [
    {
     "data": {
      "text/plain": [
       "            session      aid          ts  type    lasttime\n",
       "255               0  1319939  1661607646     0  1661684983\n",
       "256               0  1349536  1661607734     0  1661684983\n",
       "257               0   334392  1661607781     0  1661684983\n",
       "258               0  1349536  1661607810     0  1661684983\n",
       "259               0  1349536  1661634295     0  1661684983\n",
       "...             ...      ...         ...   ...         ...\n",
       "216716091  12899776  1737908  1661723987     0  1661723987\n",
       "216716092  12899777   384045  1661723976     0  1661723986\n",
       "216716093  12899777   384045  1661723986     0  1661723986\n",
       "216716094  12899778   561560  1661723983     0  1661723994\n",
       "216716095  12899778    32070  1661723994     0  1661723994\n",
       "\n",
       "[77258373 rows x 5 columns]"
      ],
      "text/html": [
       "<div>\n",
       "<style scoped>\n",
       "    .dataframe tbody tr th:only-of-type {\n",
       "        vertical-align: middle;\n",
       "    }\n",
       "\n",
       "    .dataframe tbody tr th {\n",
       "        vertical-align: top;\n",
       "    }\n",
       "\n",
       "    .dataframe thead th {\n",
       "        text-align: right;\n",
       "    }\n",
       "</style>\n",
       "<table border=\"1\" class=\"dataframe\">\n",
       "  <thead>\n",
       "    <tr style=\"text-align: right;\">\n",
       "      <th></th>\n",
       "      <th>session</th>\n",
       "      <th>aid</th>\n",
       "      <th>ts</th>\n",
       "      <th>type</th>\n",
       "      <th>lasttime</th>\n",
       "    </tr>\n",
       "  </thead>\n",
       "  <tbody>\n",
       "    <tr>\n",
       "      <th>255</th>\n",
       "      <td>0</td>\n",
       "      <td>1319939</td>\n",
       "      <td>1661607646</td>\n",
       "      <td>0</td>\n",
       "      <td>1661684983</td>\n",
       "    </tr>\n",
       "    <tr>\n",
       "      <th>256</th>\n",
       "      <td>0</td>\n",
       "      <td>1349536</td>\n",
       "      <td>1661607734</td>\n",
       "      <td>0</td>\n",
       "      <td>1661684983</td>\n",
       "    </tr>\n",
       "    <tr>\n",
       "      <th>257</th>\n",
       "      <td>0</td>\n",
       "      <td>334392</td>\n",
       "      <td>1661607781</td>\n",
       "      <td>0</td>\n",
       "      <td>1661684983</td>\n",
       "    </tr>\n",
       "    <tr>\n",
       "      <th>258</th>\n",
       "      <td>0</td>\n",
       "      <td>1349536</td>\n",
       "      <td>1661607810</td>\n",
       "      <td>0</td>\n",
       "      <td>1661684983</td>\n",
       "    </tr>\n",
       "    <tr>\n",
       "      <th>259</th>\n",
       "      <td>0</td>\n",
       "      <td>1349536</td>\n",
       "      <td>1661634295</td>\n",
       "      <td>0</td>\n",
       "      <td>1661684983</td>\n",
       "    </tr>\n",
       "    <tr>\n",
       "      <th>...</th>\n",
       "      <td>...</td>\n",
       "      <td>...</td>\n",
       "      <td>...</td>\n",
       "      <td>...</td>\n",
       "      <td>...</td>\n",
       "    </tr>\n",
       "    <tr>\n",
       "      <th>216716091</th>\n",
       "      <td>12899776</td>\n",
       "      <td>1737908</td>\n",
       "      <td>1661723987</td>\n",
       "      <td>0</td>\n",
       "      <td>1661723987</td>\n",
       "    </tr>\n",
       "    <tr>\n",
       "      <th>216716092</th>\n",
       "      <td>12899777</td>\n",
       "      <td>384045</td>\n",
       "      <td>1661723976</td>\n",
       "      <td>0</td>\n",
       "      <td>1661723986</td>\n",
       "    </tr>\n",
       "    <tr>\n",
       "      <th>216716093</th>\n",
       "      <td>12899777</td>\n",
       "      <td>384045</td>\n",
       "      <td>1661723986</td>\n",
       "      <td>0</td>\n",
       "      <td>1661723986</td>\n",
       "    </tr>\n",
       "    <tr>\n",
       "      <th>216716094</th>\n",
       "      <td>12899778</td>\n",
       "      <td>561560</td>\n",
       "      <td>1661723983</td>\n",
       "      <td>0</td>\n",
       "      <td>1661723994</td>\n",
       "    </tr>\n",
       "    <tr>\n",
       "      <th>216716095</th>\n",
       "      <td>12899778</td>\n",
       "      <td>32070</td>\n",
       "      <td>1661723994</td>\n",
       "      <td>0</td>\n",
       "      <td>1661723994</td>\n",
       "    </tr>\n",
       "  </tbody>\n",
       "</table>\n",
       "<p>77258373 rows × 5 columns</p>\n",
       "</div>"
      ]
     },
     "execution_count": 11,
     "metadata": {},
     "output_type": "execute_result"
    }
   ],
   "execution_count": 11
  },
  {
   "metadata": {
    "ExecuteTime": {
     "end_time": "2025-09-15T08:24:32.425766Z",
     "start_time": "2025-09-15T08:24:29.639135Z"
    }
   },
   "cell_type": "code",
   "source": "a = df.groupby(\"session\").size().tolist()",
   "id": "4dd961523ad7a1be",
   "outputs": [],
   "execution_count": 14
  },
  {
   "metadata": {
    "ExecuteTime": {
     "end_time": "2025-09-15T08:24:54.494674Z",
     "start_time": "2025-09-15T08:24:54.490119Z"
    }
   },
   "cell_type": "code",
   "source": "from collections import Counter",
   "id": "7e10398f3ec1f0cc",
   "outputs": [],
   "execution_count": 17
  },
  {
   "metadata": {
    "ExecuteTime": {
     "end_time": "2025-09-15T08:26:16.308055Z",
     "start_time": "2025-09-15T08:26:15.746138Z"
    }
   },
   "cell_type": "code",
   "source": "b = list(Counter(a).values())",
   "id": "108bf4788aa1e089",
   "outputs": [],
   "execution_count": 22
  },
  {
   "metadata": {
    "ExecuteTime": {
     "end_time": "2025-09-15T08:27:45.386301Z",
     "start_time": "2025-09-15T08:27:45.381192Z"
    }
   },
   "cell_type": "code",
   "source": "sum(b[:50]) / sum(b)",
   "id": "aa854235d410c28e",
   "outputs": [
    {
     "data": {
      "text/plain": [
       "0.9852235453025978"
      ]
     },
     "execution_count": 29,
     "metadata": {},
     "output_type": "execute_result"
    }
   ],
   "execution_count": 29
  },
  {
   "metadata": {},
   "cell_type": "code",
   "outputs": [],
   "execution_count": null,
   "source": "",
   "id": "f9f84265ccd8b57e"
  }
 ],
 "metadata": {
  "kernelspec": {
   "display_name": "Python 3",
   "language": "python",
   "name": "python3"
  },
  "language_info": {
   "codemirror_mode": {
    "name": "ipython",
    "version": 2
   },
   "file_extension": ".py",
   "mimetype": "text/x-python",
   "name": "python",
   "nbconvert_exporter": "python",
   "pygments_lexer": "ipython2",
   "version": "2.7.6"
  }
 },
 "nbformat": 4,
 "nbformat_minor": 5
}
