{
 "cells": [
  {
   "cell_type": "code",
   "id": "initial_id",
   "metadata": {
    "collapsed": true,
    "ExecuteTime": {
     "end_time": "2025-09-10T07:36:31.119622Z",
     "start_time": "2025-09-10T07:36:31.116493Z"
    }
   },
   "source": [
    "import pandas as pd\n",
    "from tqdm import tqdm"
   ],
   "outputs": [],
   "execution_count": 49
  },
  {
   "metadata": {
    "ExecuteTime": {
     "end_time": "2025-09-10T07:36:35.645417Z",
     "start_time": "2025-09-10T07:36:31.908244Z"
    }
   },
   "cell_type": "code",
   "source": [
    "train_df = pd.read_parquet(\"../data/train.parquet\")\n",
    "test_df = pd.read_parquet(\"../data/test.parquet\")"
   ],
   "id": "bf29b88a725f53be",
   "outputs": [],
   "execution_count": 50
  },
  {
   "metadata": {
    "ExecuteTime": {
     "end_time": "2025-09-10T07:36:39.064726Z",
     "start_time": "2025-09-10T07:36:39.056977Z"
    }
   },
   "cell_type": "code",
   "source": "train_df.head()",
   "id": "b75eb800ee3adb1b",
   "outputs": [
    {
     "data": {
      "text/plain": [
       "   session      aid          ts  type\n",
       "0        0  1517085  1659304800     0\n",
       "1        0  1563459  1659304904     0\n",
       "2        0  1309446  1659367439     0\n",
       "3        0    16246  1659367719     0\n",
       "4        0  1781822  1659367871     0"
      ],
      "text/html": [
       "<div>\n",
       "<style scoped>\n",
       "    .dataframe tbody tr th:only-of-type {\n",
       "        vertical-align: middle;\n",
       "    }\n",
       "\n",
       "    .dataframe tbody tr th {\n",
       "        vertical-align: top;\n",
       "    }\n",
       "\n",
       "    .dataframe thead th {\n",
       "        text-align: right;\n",
       "    }\n",
       "</style>\n",
       "<table border=\"1\" class=\"dataframe\">\n",
       "  <thead>\n",
       "    <tr style=\"text-align: right;\">\n",
       "      <th></th>\n",
       "      <th>session</th>\n",
       "      <th>aid</th>\n",
       "      <th>ts</th>\n",
       "      <th>type</th>\n",
       "    </tr>\n",
       "  </thead>\n",
       "  <tbody>\n",
       "    <tr>\n",
       "      <th>0</th>\n",
       "      <td>0</td>\n",
       "      <td>1517085</td>\n",
       "      <td>1659304800</td>\n",
       "      <td>0</td>\n",
       "    </tr>\n",
       "    <tr>\n",
       "      <th>1</th>\n",
       "      <td>0</td>\n",
       "      <td>1563459</td>\n",
       "      <td>1659304904</td>\n",
       "      <td>0</td>\n",
       "    </tr>\n",
       "    <tr>\n",
       "      <th>2</th>\n",
       "      <td>0</td>\n",
       "      <td>1309446</td>\n",
       "      <td>1659367439</td>\n",
       "      <td>0</td>\n",
       "    </tr>\n",
       "    <tr>\n",
       "      <th>3</th>\n",
       "      <td>0</td>\n",
       "      <td>16246</td>\n",
       "      <td>1659367719</td>\n",
       "      <td>0</td>\n",
       "    </tr>\n",
       "    <tr>\n",
       "      <th>4</th>\n",
       "      <td>0</td>\n",
       "      <td>1781822</td>\n",
       "      <td>1659367871</td>\n",
       "      <td>0</td>\n",
       "    </tr>\n",
       "  </tbody>\n",
       "</table>\n",
       "</div>"
      ]
     },
     "execution_count": 51,
     "metadata": {},
     "output_type": "execute_result"
    }
   ],
   "execution_count": 51
  },
  {
   "metadata": {
    "ExecuteTime": {
     "end_time": "2025-09-10T07:36:41.074452Z",
     "start_time": "2025-09-10T07:36:39.331305Z"
    }
   },
   "cell_type": "code",
   "source": "all_df = pd.concat(([train_df,test_df]))",
   "id": "b89a0a2c476c8044",
   "outputs": [],
   "execution_count": 52
  },
  {
   "metadata": {
    "ExecuteTime": {
     "end_time": "2025-09-10T07:36:46.710929Z",
     "start_time": "2025-09-10T07:36:41.129923Z"
    }
   },
   "cell_type": "code",
   "source": "top20 = all_df.groupby(\"aid\")['ts'].count().sort_values(ascending=False).head(20).to_list()",
   "id": "6e85dd3a9c8203e5",
   "outputs": [],
   "execution_count": 53
  },
  {
   "metadata": {
    "ExecuteTime": {
     "end_time": "2025-09-10T07:36:46.775013Z",
     "start_time": "2025-09-10T07:36:46.771108Z"
    }
   },
   "cell_type": "code",
   "source": "top20",
   "id": "8d08a10fa73a242a",
   "outputs": [
    {
     "data": {
      "text/plain": [
       "[137874,\n",
       " 135892,\n",
       " 124885,\n",
       " 116215,\n",
       " 106512,\n",
       " 94766,\n",
       " 92890,\n",
       " 86333,\n",
       " 83865,\n",
       " 81557,\n",
       " 80615,\n",
       " 78983,\n",
       " 78288,\n",
       " 75925,\n",
       " 74986,\n",
       " 73903,\n",
       " 70235,\n",
       " 67675,\n",
       " 66825,\n",
       " 65894]"
      ]
     },
     "execution_count": 54,
     "metadata": {},
     "output_type": "execute_result"
    }
   ],
   "execution_count": 54
  },
  {
   "metadata": {
    "ExecuteTime": {
     "end_time": "2025-09-10T07:38:39.283291Z",
     "start_time": "2025-09-10T07:36:46.829337Z"
    }
   },
   "cell_type": "code",
   "source": [
    "pred_df = test_df.sort_values([\"session\", \"type\", \"ts\"]).groupby([\"session\"]).apply(\n",
    "    lambda x: x.tail(20).aid.tolist()\n",
    ")\n",
    "pred_df"
   ],
   "id": "a3f3d540489aa15f",
   "outputs": [
    {
     "name": "stderr",
     "output_type": "stream",
     "text": [
      "/tmp/ipykernel_2041666/2144788595.py:1: DeprecationWarning: DataFrameGroupBy.apply operated on the grouping columns. This behavior is deprecated, and in a future version of pandas the grouping columns will be excluded from the operation. Either pass `include_groups=False` to exclude the groupings or explicitly select the grouping columns after groupby to silence this warning.\n",
      "  pred_df = test_df.sort_values([\"session\", \"type\", \"ts\"]).groupby([\"session\"]).apply(\n"
     ]
    },
    {
     "data": {
      "text/plain": [
       "session\n",
       "12899779                                              [59625]\n",
       "12899780           [1142000, 582732, 973453, 736515, 1142000]\n",
       "12899781    [141736, 199008, 57315, 194067, 199008, 199008...\n",
       "12899782    [476063, 779477, 975116, 595994, 1344773, 1711...\n",
       "12899783    [255297, 1114789, 255297, 300127, 198385, 3001...\n",
       "                                  ...                        \n",
       "14571577                                            [1141710]\n",
       "14571578                                             [519105]\n",
       "14571579                                             [739876]\n",
       "14571580                                             [202353]\n",
       "14571581                                            [1100210]\n",
       "Length: 1671803, dtype: object"
      ]
     },
     "execution_count": 55,
     "metadata": {},
     "output_type": "execute_result"
    }
   ],
   "execution_count": 55
  },
  {
   "metadata": {
    "ExecuteTime": {
     "end_time": "2025-09-10T07:38:43.912775Z",
     "start_time": "2025-09-10T07:38:39.526364Z"
    }
   },
   "cell_type": "code",
   "source": [
    "clicks_pred_df = pd.DataFrame(pred_df.add_suffix(\"_clicks\"),columns=['labels']).reset_index()\n",
    "orders_pred_df = pd.DataFrame(pred_df.add_suffix(\"_orders\"),columns=['labels']).reset_index()\n",
    "carts_pred_df = pd.DataFrame(pred_df.add_suffix(\"_carts\"),columns=['labels']).reset_index()"
   ],
   "id": "46f9001d1807511e",
   "outputs": [],
   "execution_count": 56
  },
  {
   "metadata": {
    "ExecuteTime": {
     "end_time": "2025-09-10T07:38:53.279821Z",
     "start_time": "2025-09-10T07:38:43.991538Z"
    }
   },
   "cell_type": "code",
   "source": [
    "clicks_pred_df['labels'] = clicks_pred_df['labels'].apply(lambda x : (x + top20)[:20])\n",
    "orders_pred_df['labels'] = orders_pred_df['labels'].apply(lambda x : (x + top20)[:20])\n",
    "carts_pred_df['labels'] = carts_pred_df['labels'].apply(lambda x : (x + top20)[:20])"
   ],
   "id": "a1176d69d72ba072",
   "outputs": [],
   "execution_count": 57
  },
  {
   "metadata": {
    "ExecuteTime": {
     "end_time": "2025-09-10T07:38:53.358523Z",
     "start_time": "2025-09-10T07:38:53.350640Z"
    }
   },
   "cell_type": "code",
   "source": "clicks_pred_df.head()",
   "id": "1fa53f09f9441f53",
   "outputs": [
    {
     "data": {
      "text/plain": [
       "           session                                             labels\n",
       "0  12899779_clicks  [59625, 137874, 135892, 124885, 116215, 106512...\n",
       "1  12899780_clicks  [1142000, 582732, 973453, 736515, 1142000, 137...\n",
       "2  12899781_clicks  [141736, 199008, 57315, 194067, 199008, 199008...\n",
       "3  12899782_clicks  [476063, 779477, 975116, 595994, 1344773, 1711...\n",
       "4  12899783_clicks  [255297, 1114789, 255297, 300127, 198385, 3001..."
      ],
      "text/html": [
       "<div>\n",
       "<style scoped>\n",
       "    .dataframe tbody tr th:only-of-type {\n",
       "        vertical-align: middle;\n",
       "    }\n",
       "\n",
       "    .dataframe tbody tr th {\n",
       "        vertical-align: top;\n",
       "    }\n",
       "\n",
       "    .dataframe thead th {\n",
       "        text-align: right;\n",
       "    }\n",
       "</style>\n",
       "<table border=\"1\" class=\"dataframe\">\n",
       "  <thead>\n",
       "    <tr style=\"text-align: right;\">\n",
       "      <th></th>\n",
       "      <th>session</th>\n",
       "      <th>labels</th>\n",
       "    </tr>\n",
       "  </thead>\n",
       "  <tbody>\n",
       "    <tr>\n",
       "      <th>0</th>\n",
       "      <td>12899779_clicks</td>\n",
       "      <td>[59625, 137874, 135892, 124885, 116215, 106512...</td>\n",
       "    </tr>\n",
       "    <tr>\n",
       "      <th>1</th>\n",
       "      <td>12899780_clicks</td>\n",
       "      <td>[1142000, 582732, 973453, 736515, 1142000, 137...</td>\n",
       "    </tr>\n",
       "    <tr>\n",
       "      <th>2</th>\n",
       "      <td>12899781_clicks</td>\n",
       "      <td>[141736, 199008, 57315, 194067, 199008, 199008...</td>\n",
       "    </tr>\n",
       "    <tr>\n",
       "      <th>3</th>\n",
       "      <td>12899782_clicks</td>\n",
       "      <td>[476063, 779477, 975116, 595994, 1344773, 1711...</td>\n",
       "    </tr>\n",
       "    <tr>\n",
       "      <th>4</th>\n",
       "      <td>12899783_clicks</td>\n",
       "      <td>[255297, 1114789, 255297, 300127, 198385, 3001...</td>\n",
       "    </tr>\n",
       "  </tbody>\n",
       "</table>\n",
       "</div>"
      ]
     },
     "execution_count": 58,
     "metadata": {},
     "output_type": "execute_result"
    }
   ],
   "execution_count": 58
  },
  {
   "metadata": {
    "ExecuteTime": {
     "end_time": "2025-09-10T07:41:13.167599Z",
     "start_time": "2025-09-10T07:40:26.687546Z"
    }
   },
   "cell_type": "code",
   "source": [
    "pred_df = pd.concat([clicks_pred_df, orders_pred_df, carts_pred_df])\n",
    "pred_df.columns = ['session_type', 'labels']\n",
    "\n",
    "# 定义自定义排序规则\n",
    "type_priority = {\n",
    "    'clicks': 0,  # clicks 排在最前\n",
    "    'carts': 1,   # carts 排在中间\n",
    "    'orders': 2   # orders 排在最后\n",
    "}\n",
    "\n",
    "# 提取 session_type 中的编号部分和关键词部分\n",
    "pred_df['session_number'] = pred_df['session_type'].str.extract(r'(\\d+)')  # 提取编号部分\n",
    "pred_df['session_type_keyword'] = pred_df['session_type'].str.extract(r'(clicks|carts|orders)')  # 提取类型部分\n",
    "\n",
    "# 映射类型到优先级\n",
    "pred_df['type_priority'] = pred_df['session_type_keyword'].map(type_priority)\n",
    "\n",
    "# 先按 session_number 排序，再按 type_priority 排序\n",
    "pred_df = pred_df.sort_values(by=['session_number', 'type_priority'])\n",
    "\n",
    "# 删除辅助列\n",
    "pred_df = pred_df.drop(columns=['session_number', 'session_type_keyword', 'type_priority'])\n",
    "\n",
    "# 将 labels 列中的数组转换为逗号分隔的字符串\n",
    "pred_df['labels'] = pred_df['labels'].apply(lambda x: ' '.join(map(str, x)))\n",
    "\n",
    "# 查看排序后的结果\n",
    "print(pred_df)\n",
    "\n",
    "# 保存为 CSV 文件\n",
    "pred_df.to_csv(\"submission.csv\", index=False)\n"
   ],
   "id": "70b69a022d55818e",
   "outputs": [
    {
     "name": "stdout",
     "output_type": "stream",
     "text": [
      "            session_type                                             labels\n",
      "0        12899779_clicks  59625 137874 135892 124885 116215 106512 94766...\n",
      "0         12899779_carts  59625 137874 135892 124885 116215 106512 94766...\n",
      "0        12899779_orders  59625 137874 135892 124885 116215 106512 94766...\n",
      "1        12899780_clicks  1142000 582732 973453 736515 1142000 137874 13...\n",
      "1         12899780_carts  1142000 582732 973453 736515 1142000 137874 13...\n",
      "...                  ...                                                ...\n",
      "1671801   14571580_carts  202353 137874 135892 124885 116215 106512 9476...\n",
      "1671801  14571580_orders  202353 137874 135892 124885 116215 106512 9476...\n",
      "1671802  14571581_clicks  1100210 137874 135892 124885 116215 106512 947...\n",
      "1671802   14571581_carts  1100210 137874 135892 124885 116215 106512 947...\n",
      "1671802  14571581_orders  1100210 137874 135892 124885 116215 106512 947...\n",
      "\n",
      "[5015409 rows x 2 columns]\n"
     ]
    }
   ],
   "execution_count": 62
  },
  {
   "metadata": {
    "ExecuteTime": {
     "end_time": "2025-09-10T07:40:02.313379Z",
     "start_time": "2025-09-10T07:40:02.299046Z"
    }
   },
   "cell_type": "code",
   "source": "pred_df",
   "id": "208add8afe0f842c",
   "outputs": [
    {
     "data": {
      "text/plain": [
       "            session_type                                             labels\n",
       "0        12899779_clicks  [59625, 137874, 135892, 124885, 116215, 106512...\n",
       "0         12899779_carts  [59625, 137874, 135892, 124885, 116215, 106512...\n",
       "0        12899779_orders  [59625, 137874, 135892, 124885, 116215, 106512...\n",
       "1        12899780_clicks  [1142000, 582732, 973453, 736515, 1142000, 137...\n",
       "1         12899780_carts  [1142000, 582732, 973453, 736515, 1142000, 137...\n",
       "...                  ...                                                ...\n",
       "1671801   14571580_carts  [202353, 137874, 135892, 124885, 116215, 10651...\n",
       "1671801  14571580_orders  [202353, 137874, 135892, 124885, 116215, 10651...\n",
       "1671802  14571581_clicks  [1100210, 137874, 135892, 124885, 116215, 1065...\n",
       "1671802   14571581_carts  [1100210, 137874, 135892, 124885, 116215, 1065...\n",
       "1671802  14571581_orders  [1100210, 137874, 135892, 124885, 116215, 1065...\n",
       "\n",
       "[5015409 rows x 2 columns]"
      ],
      "text/html": [
       "<div>\n",
       "<style scoped>\n",
       "    .dataframe tbody tr th:only-of-type {\n",
       "        vertical-align: middle;\n",
       "    }\n",
       "\n",
       "    .dataframe tbody tr th {\n",
       "        vertical-align: top;\n",
       "    }\n",
       "\n",
       "    .dataframe thead th {\n",
       "        text-align: right;\n",
       "    }\n",
       "</style>\n",
       "<table border=\"1\" class=\"dataframe\">\n",
       "  <thead>\n",
       "    <tr style=\"text-align: right;\">\n",
       "      <th></th>\n",
       "      <th>session_type</th>\n",
       "      <th>labels</th>\n",
       "    </tr>\n",
       "  </thead>\n",
       "  <tbody>\n",
       "    <tr>\n",
       "      <th>0</th>\n",
       "      <td>12899779_clicks</td>\n",
       "      <td>[59625, 137874, 135892, 124885, 116215, 106512...</td>\n",
       "    </tr>\n",
       "    <tr>\n",
       "      <th>0</th>\n",
       "      <td>12899779_carts</td>\n",
       "      <td>[59625, 137874, 135892, 124885, 116215, 106512...</td>\n",
       "    </tr>\n",
       "    <tr>\n",
       "      <th>0</th>\n",
       "      <td>12899779_orders</td>\n",
       "      <td>[59625, 137874, 135892, 124885, 116215, 106512...</td>\n",
       "    </tr>\n",
       "    <tr>\n",
       "      <th>1</th>\n",
       "      <td>12899780_clicks</td>\n",
       "      <td>[1142000, 582732, 973453, 736515, 1142000, 137...</td>\n",
       "    </tr>\n",
       "    <tr>\n",
       "      <th>1</th>\n",
       "      <td>12899780_carts</td>\n",
       "      <td>[1142000, 582732, 973453, 736515, 1142000, 137...</td>\n",
       "    </tr>\n",
       "    <tr>\n",
       "      <th>...</th>\n",
       "      <td>...</td>\n",
       "      <td>...</td>\n",
       "    </tr>\n",
       "    <tr>\n",
       "      <th>1671801</th>\n",
       "      <td>14571580_carts</td>\n",
       "      <td>[202353, 137874, 135892, 124885, 116215, 10651...</td>\n",
       "    </tr>\n",
       "    <tr>\n",
       "      <th>1671801</th>\n",
       "      <td>14571580_orders</td>\n",
       "      <td>[202353, 137874, 135892, 124885, 116215, 10651...</td>\n",
       "    </tr>\n",
       "    <tr>\n",
       "      <th>1671802</th>\n",
       "      <td>14571581_clicks</td>\n",
       "      <td>[1100210, 137874, 135892, 124885, 116215, 1065...</td>\n",
       "    </tr>\n",
       "    <tr>\n",
       "      <th>1671802</th>\n",
       "      <td>14571581_carts</td>\n",
       "      <td>[1100210, 137874, 135892, 124885, 116215, 1065...</td>\n",
       "    </tr>\n",
       "    <tr>\n",
       "      <th>1671802</th>\n",
       "      <td>14571581_orders</td>\n",
       "      <td>[1100210, 137874, 135892, 124885, 116215, 1065...</td>\n",
       "    </tr>\n",
       "  </tbody>\n",
       "</table>\n",
       "<p>5015409 rows × 2 columns</p>\n",
       "</div>"
      ]
     },
     "execution_count": 61,
     "metadata": {},
     "output_type": "execute_result"
    }
   ],
   "execution_count": 61
  },
  {
   "metadata": {
    "ExecuteTime": {
     "end_time": "2025-09-10T03:00:12.548688Z",
     "start_time": "2025-09-10T02:59:57.567081Z"
    }
   },
   "cell_type": "code",
   "source": "",
   "id": "5f66bc97c90c2576",
   "outputs": [],
   "execution_count": 32
  },
  {
   "metadata": {
    "ExecuteTime": {
     "end_time": "2025-09-10T04:37:09.920792Z",
     "start_time": "2025-09-10T04:37:09.915468Z"
    }
   },
   "cell_type": "code",
   "source": "len(pred_df)",
   "id": "51b863bfe350878a",
   "outputs": [
    {
     "data": {
      "text/plain": [
       "5015409"
      ]
     },
     "execution_count": 33,
     "metadata": {},
     "output_type": "execute_result"
    }
   ],
   "execution_count": 33
  },
  {
   "metadata": {},
   "cell_type": "code",
   "outputs": [],
   "execution_count": null,
   "source": "",
   "id": "bac9b302806ab3ed"
  }
 ],
 "metadata": {
  "kernelspec": {
   "display_name": "Python 3",
   "language": "python",
   "name": "python3"
  },
  "language_info": {
   "codemirror_mode": {
    "name": "ipython",
    "version": 2
   },
   "file_extension": ".py",
   "mimetype": "text/x-python",
   "name": "python",
   "nbconvert_exporter": "python",
   "pygments_lexer": "ipython2",
   "version": "2.7.6"
  }
 },
 "nbformat": 4,
 "nbformat_minor": 5
}
